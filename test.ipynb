{
 "cells": [
  {
   "cell_type": "code",
   "execution_count": 1,
   "metadata": {},
   "outputs": [],
   "source": [
    "import os\n",
    "import openai\n",
    "openai.api_key = os.getenv(\"OPENAI_API_KEY\")"
   ]
  },
  {
   "cell_type": "code",
   "execution_count": 45,
   "metadata": {},
   "outputs": [],
   "source": [
    "def gpt_model_parameters():\n",
    "    model = \"gpt-3.5-turbo\"\n",
    "    temperature = 0.2\n",
    "    max_tokens = 2048\n",
    "    return model, temperature, max_tokens"
   ]
  },
  {
   "cell_type": "code",
   "execution_count": 57,
   "metadata": {},
   "outputs": [],
   "source": [
    "base_message = [{\"role\": \"system\",\n",
    "             \"content\": \"\"\"The reviewer will enter the review they are writing.\n",
    "This sentence is an incomplete sentence and all korean text.\n",
    "A reviewer is korean, so you have to answer with korean.\n",
    "If You have to figure out the context of the sentence and complete the rest of the sentence.\n",
    "If the context requires a negative sentence, you must complete one negative sentence.\n",
    "Conversely, if the context is positive, you must complete one positive sentence.\n",
    "If you can't decide whether it's positive or negative, you need to complete two sentences, one positive and one negative.\n",
    "You have to read the reviewer's review and write it by following the tone of the reviewer. \n",
    "You have to conclude \"긍정적\" or \"부정적\" in your answer.\n",
    "\n",
    "This is some examples.\n",
    "<format>\n",
    "{\n",
    "    \"input\" : \"조식과 석식을 호텔에서 먹었는데\"\n",
    "  \"results\" : [\n",
    "    {\"긍정적\", \"조식과 석식을 호텔에서 먹었는데 맛과 다양성 모두 훌륭했습니다.\"},\n",
    "    {\"부정적\", \"조식과 석식을 호텔에서 먹었는데 식사 퀄리티가 기대에 미치지 않았습니다.\"}\n",
    "  ]\n",
    "},\n",
    "{\n",
    "    \"input\" : \"침대에서 이상한 냄새가 나고\"\n",
    "    \"results\" : [\n",
    "        {\"부정적\", \"침대에서 이상한 냄새가 나고 불편했습니다.\"}\n",
    "    ]\n",
    "}\n",
    "\"\"\"}]"
   ]
  },
  {
   "cell_type": "code",
   "execution_count": 42,
   "metadata": {},
   "outputs": [],
   "source": [
    "def generate_openai_response(base_message, query):\n",
    "    model, temperature, max_tokens = gpt_model_parameters()\n",
    "    # prompt message\n",
    "    messages = base_message + [{\"role\": \"user\", \"content\": query}]\n",
    "    response = openai.ChatCompletion.create(\n",
    "        model = model,\n",
    "        messages = messages,\n",
    "        temperature = temperature,\n",
    "        max_tokens = max_tokens\n",
    "    )\n",
    "    return response[\"choices\"][0][\"message\"][\"content\"]"
   ]
  },
  {
   "cell_type": "code",
   "execution_count": 10,
   "metadata": {},
   "outputs": [],
   "source": [
    "def lambda_handler(event, context):\n",
    "    try:\n",
    "        body = json.loads(event.get('body', '{}'))\n",
    "        message = body.get('message', '')\n",
    "\n",
    "        if not message:\n",
    "            raise ValueError('message is empty')\n",
    "\n",
    "        messages.append({\"role\": \"user\", \"content\": message})\n",
    "        response = generate_openai_response(message)\n",
    "        response_body = {\n",
    "            'message': response\n",
    "        }\n",
    "        return {\n",
    "            'statusCode': 200,\n",
    "            'body': json.dumps(response_body)\n",
    "        }\n",
    "    except Exception as e:\n",
    "        return {\n",
    "            'statusCode': 500,\n",
    "            'body': str(e)\n",
    "        }"
   ]
  },
  {
   "cell_type": "code",
   "execution_count": 50,
   "metadata": {},
   "outputs": [],
   "source": [
    "import re"
   ]
  },
  {
   "cell_type": "code",
   "execution_count": 75,
   "metadata": {},
   "outputs": [],
   "source": [
    "# response 후처리\n",
    "\"\"\"\n",
    "답변 형태 1) '<format>\\n{\\n  \"results\" : [\\n    {\"긍정적\", \"바다가 보이는 60층 숙소에 묵었는데 풍경이 너무 아름다웠습니다.\"},\\n    {\"부정적\", \"바다가 보이는 60층 숙소에 묵었는데 풍경이 기대에 미치지 않았습니다.\"}\\n  ]\\n}'\n",
    "답변 형태 2) '긍정적: 바다가 보이는 60층에 묵었는데 풍경이 너무 아름다웠습니다.\\n부정적: 바다가 보이는 60층에 묵었는데 전망이 기대에 미치지 않았습니다.'\n",
    "답변 형태 3) '부정적: 침대가 너무 더러웠고 청결하지 않았습니다.'\n",
    "\"\"\"\n",
    "def response_postprocessing(responses):\n",
    "    # 형태 1\n",
    "    if 'format' in responses:\n",
    "        pattern = r'{\"(긍정적|부정적)\", \"(.*?)\"}'\n",
    "        matches = re.findall(pattern, responses)\n",
    "        if matches:\n",
    "            result_dict = {key : value for key, value in matches}\n",
    "        return result_dict\n",
    "    # 형태 2, 3\n",
    "    elif ':' in responses:\n",
    "        responses = responses.split('\\n')\n",
    "        result_dict = {}\n",
    "        for response in responses:\n",
    "            response = response.split(':')\n",
    "            if len(response) == 2:\n",
    "                result_dict[response[0]] = response[1].strip()\n",
    "        return result_dict"
   ]
  },
  {
   "cell_type": "code",
   "execution_count": 53,
   "metadata": {},
   "outputs": [
    {
     "data": {
      "text/plain": [
       "'<format>\\n{\\n  \"results\" : [\\n    {\"긍정적\", \"바다가 보이는 60층 숙소에 묵었는데 풍경이 너무 아름다웠습니다.\"},\\n    {\"부정적\", \"바다가 보이는 60층 숙소에 묵었는데 풍경이 기대에 미치지 않았습니다.\"}\\n  ]\\n}'"
      ]
     },
     "execution_count": 53,
     "metadata": {},
     "output_type": "execute_result"
    }
   ],
   "source": [
    "response[\"choices\"][0][\"message\"][\"content\"]"
   ]
  },
  {
   "cell_type": "code",
   "execution_count": 76,
   "metadata": {},
   "outputs": [
    {
     "data": {
      "text/plain": [
       "{'긍정적': '바다가 보이는 60층에 묵었는데 풍경이 너무 아름다웠습니다.',\n",
       " '부정적': '바다가 보이는 60층에 묵었는데 전망이 기대에 미치지 않았습니다.'}"
      ]
     },
     "execution_count": 76,
     "metadata": {},
     "output_type": "execute_result"
    }
   ],
   "source": [
    "response_postprocessing('긍정적: 바다가 보이는 60층에 묵었는데 풍경이 너무 아름다웠습니다.\\n부정적: 바다가 보이는 60층에 묵었는데 전망이 기대에 미치지 않았습니다.')"
   ]
  },
  {
   "cell_type": "code",
   "execution_count": 54,
   "metadata": {},
   "outputs": [
    {
     "data": {
      "text/plain": [
       "{'긍정적': '바다가 보이는 60층 숙소에 묵었는데 풍경이 너무 아름다웠습니다.',\n",
       " '부정적': '바다가 보이는 60층 숙소에 묵었는데 풍경이 기대에 미치지 않았습니다.'}"
      ]
     },
     "execution_count": 54,
     "metadata": {},
     "output_type": "execute_result"
    }
   ],
   "source": [
    "response_postprocessing(response[\"choices\"][0][\"message\"][\"content\"])"
   ]
  },
  {
   "cell_type": "code",
   "execution_count": 59,
   "metadata": {},
   "outputs": [
    {
     "data": {
      "text/plain": [
       "'긍정적: 바다가 보이는 60층에 묵었는데 풍경이 너무 아름다웠습니다.\\n부정적: 바다가 보이는 60층에 묵었는데 전망이 기대에 미치지 않았습니다.'"
      ]
     },
     "execution_count": 59,
     "metadata": {},
     "output_type": "execute_result"
    }
   ],
   "source": [
    "generate_openai_response(base_message, \"바다가 보이는 60층에 묵었는데\")"
   ]
  },
  {
   "cell_type": "code",
   "execution_count": 58,
   "metadata": {},
   "outputs": [
    {
     "data": {
      "text/plain": [
       "'부정적: 침대가 너무 더러웠고 청결하지 않았습니다.'"
      ]
     },
     "execution_count": 58,
     "metadata": {},
     "output_type": "execute_result"
    }
   ],
   "source": [
    "generate_openai_response(base_message, \"침대가 너무 더러웠고\")"
   ]
  },
  {
   "cell_type": "code",
   "execution_count": 3,
   "metadata": {},
   "outputs": [
    {
     "name": "stdout",
     "output_type": "stream",
     "text": [
      "Requirement already satisfied: pylint in /opt/homebrew/anaconda3/lib/python3.11/site-packages (2.16.2)\n",
      "Requirement already satisfied: platformdirs>=2.2.0 in /opt/homebrew/anaconda3/lib/python3.11/site-packages (from pylint) (2.5.2)\n",
      "Requirement already satisfied: astroid<=2.16.0-dev0,>=2.14.2 in /opt/homebrew/anaconda3/lib/python3.11/site-packages (from pylint) (2.14.2)\n",
      "Requirement already satisfied: isort<6,>=4.2.5 in /opt/homebrew/anaconda3/lib/python3.11/site-packages (from pylint) (5.9.3)\n",
      "Requirement already satisfied: mccabe<0.8,>=0.6 in /opt/homebrew/anaconda3/lib/python3.11/site-packages (from pylint) (0.7.0)\n",
      "Requirement already satisfied: tomlkit>=0.10.1 in /opt/homebrew/anaconda3/lib/python3.11/site-packages (from pylint) (0.11.1)\n",
      "Requirement already satisfied: dill>=0.3.6 in /opt/homebrew/anaconda3/lib/python3.11/site-packages (from pylint) (0.3.6)\n",
      "Requirement already satisfied: lazy-object-proxy>=1.4.0 in /opt/homebrew/anaconda3/lib/python3.11/site-packages (from astroid<=2.16.0-dev0,>=2.14.2->pylint) (1.6.0)\n",
      "Requirement already satisfied: wrapt<2,>=1.14 in /opt/homebrew/anaconda3/lib/python3.11/site-packages (from astroid<=2.16.0-dev0,>=2.14.2->pylint) (1.14.1)\n"
     ]
    }
   ],
   "source": [
    "!pip install pylint"
   ]
  },
  {
   "cell_type": "code",
   "execution_count": null,
   "metadata": {},
   "outputs": [],
   "source": []
  }
 ],
 "metadata": {
  "kernelspec": {
   "display_name": "base",
   "language": "python",
   "name": "python3"
  },
  "language_info": {
   "codemirror_mode": {
    "name": "ipython",
    "version": 3
   },
   "file_extension": ".py",
   "mimetype": "text/x-python",
   "name": "python",
   "nbconvert_exporter": "python",
   "pygments_lexer": "ipython3",
   "version": "3.11.3"
  },
  "orig_nbformat": 4
 },
 "nbformat": 4,
 "nbformat_minor": 2
}
