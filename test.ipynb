{
 "cells": [
  {
   "cell_type": "code",
   "execution_count": 1,
   "metadata": {},
   "outputs": [],
   "source": [
    "import os\n",
    "import openai\n",
    "openai.api_key = os.getenv(\"OPENAI_API_KEY\")"
   ]
  },
  {
   "cell_type": "code",
   "execution_count": 45,
   "metadata": {},
   "outputs": [],
   "source": [
    "def gpt_model_parameters():\n",
    "    model = \"gpt-3.5-turbo\"\n",
    "    temperature = 0.2\n",
    "    max_tokens = 2048\n",
    "    return model, temperature, max_tokens"
   ]
  },
  {
   "cell_type": "code",
   "execution_count": 41,
   "metadata": {},
   "outputs": [],
   "source": [
    "base_message = [{\"role\": \"system\",\n",
    "             \"content\": \"\"\"The reviewer will enter the review they are writing.\n",
    "This sentence is an incomplete sentence and all korean text.\n",
    "A reviewer is korean, so you have to answer with korean.\n",
    "If You have to figure out the context of the sentence and complete the rest of the sentence.\n",
    "If the context requires a negative sentence, you must complete one negative sentence.\n",
    "Conversely, if the context is positive, you must complete one positive sentence.\n",
    "If you can't decide whether it's positive or negative, you need to complete two sentences, one positive and one negative.\n",
    "You have to read the reviewer's review and write it by following the tone of the reviewer. \n",
    "\n",
    "This is an example.\n",
    "\"input\" : \"조식과 석식을 호텔에서 먹었는데\"\n",
    "<format>\n",
    "{\n",
    "  \"results\" : [\n",
    "    {\"긍정적\", \"조식과 석식을 호텔에서 먹었는데 맛과 다양성 모두 훌륭했습니다.\"}\n",
    "    {\"부정적\", \"조식과 석식을 호텔에서 먹었는데 식사 퀄리티가 기대에 미치지 않았습니다.\"}\n",
    "  ]\n",
    "}\n",
    "\"\"\"}]"
   ]
  },
  {
   "cell_type": "code",
   "execution_count": 42,
   "metadata": {},
   "outputs": [],
   "source": [
    "def generate_openai_response(base_message, query):\n",
    "    model, temperature, max_tokens = gpt_model_parameters()\n",
    "    # prompt message\n",
    "    messages = base_message + [{\"role\": \"user\", \"content\": query}]\n",
    "    response = openai.ChatCompletion.create(\n",
    "        model = model,\n",
    "        messages = messages,\n",
    "        temperature = temperature,\n",
    "        max_tokens = max_tokens\n",
    "    )\n",
    "    return response[\"choices\"][0][\"message\"][\"content\"]"
   ]
  },
  {
   "cell_type": "code",
   "execution_count": 10,
   "metadata": {},
   "outputs": [],
   "source": [
    "def lambda_handler(event, context):\n",
    "    try:\n",
    "        body = json.loads(event.get('body', '{}'))\n",
    "        message = body.get('message', '')\n",
    "\n",
    "        if not message:\n",
    "            raise ValueError('message is empty')\n",
    "\n",
    "        messages.append({\"role\": \"user\", \"content\": message})\n",
    "        response = generate_openai_response(message)\n",
    "        response_body = {\n",
    "            'message': response\n",
    "        }\n",
    "        return {\n",
    "            'statusCode': 200,\n",
    "            'body': json.dumps(response_body)\n",
    "        }\n",
    "    except Exception as e:\n",
    "        return {\n",
    "            'statusCode': 500,\n",
    "            'body': str(e)\n",
    "        }"
   ]
  },
  {
   "cell_type": "code",
   "execution_count": 46,
   "metadata": {},
   "outputs": [
    {
     "data": {
      "text/plain": [
       "'<format>\\n{\\n  \"results\" : [\\n    {\"긍정적\", \"바다가 보이는 60층에 묵었는데 풍경이 너무 아름다웠습니다.\"},\\n    {\"부정적\", \"바다가 보이는 60층에 묵었는데 풍경이 기대에 못 미쳤습니다.\"}\\n  ]\\n}'"
      ]
     },
     "execution_count": 46,
     "metadata": {},
     "output_type": "execute_result"
    }
   ],
   "source": [
    "generate_openai_response(base_message, \"바다가 보이는 60층에 묵었는데\")"
   ]
  },
  {
   "cell_type": "code",
   "execution_count": 3,
   "metadata": {},
   "outputs": [
    {
     "name": "stdout",
     "output_type": "stream",
     "text": [
      "Requirement already satisfied: pylint in /opt/homebrew/anaconda3/lib/python3.11/site-packages (2.16.2)\n",
      "Requirement already satisfied: platformdirs>=2.2.0 in /opt/homebrew/anaconda3/lib/python3.11/site-packages (from pylint) (2.5.2)\n",
      "Requirement already satisfied: astroid<=2.16.0-dev0,>=2.14.2 in /opt/homebrew/anaconda3/lib/python3.11/site-packages (from pylint) (2.14.2)\n",
      "Requirement already satisfied: isort<6,>=4.2.5 in /opt/homebrew/anaconda3/lib/python3.11/site-packages (from pylint) (5.9.3)\n",
      "Requirement already satisfied: mccabe<0.8,>=0.6 in /opt/homebrew/anaconda3/lib/python3.11/site-packages (from pylint) (0.7.0)\n",
      "Requirement already satisfied: tomlkit>=0.10.1 in /opt/homebrew/anaconda3/lib/python3.11/site-packages (from pylint) (0.11.1)\n",
      "Requirement already satisfied: dill>=0.3.6 in /opt/homebrew/anaconda3/lib/python3.11/site-packages (from pylint) (0.3.6)\n",
      "Requirement already satisfied: lazy-object-proxy>=1.4.0 in /opt/homebrew/anaconda3/lib/python3.11/site-packages (from astroid<=2.16.0-dev0,>=2.14.2->pylint) (1.6.0)\n",
      "Requirement already satisfied: wrapt<2,>=1.14 in /opt/homebrew/anaconda3/lib/python3.11/site-packages (from astroid<=2.16.0-dev0,>=2.14.2->pylint) (1.14.1)\n"
     ]
    }
   ],
   "source": [
    "!pip install pylint"
   ]
  },
  {
   "cell_type": "code",
   "execution_count": null,
   "metadata": {},
   "outputs": [],
   "source": []
  }
 ],
 "metadata": {
  "kernelspec": {
   "display_name": "base",
   "language": "python",
   "name": "python3"
  },
  "language_info": {
   "codemirror_mode": {
    "name": "ipython",
    "version": 3
   },
   "file_extension": ".py",
   "mimetype": "text/x-python",
   "name": "python",
   "nbconvert_exporter": "python",
   "pygments_lexer": "ipython3",
   "version": "3.11.3"
  },
  "orig_nbformat": 4
 },
 "nbformat": 4,
 "nbformat_minor": 2
}
