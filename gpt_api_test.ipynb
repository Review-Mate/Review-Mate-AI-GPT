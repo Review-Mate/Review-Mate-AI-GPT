{
 "cells": [
  {
   "cell_type": "code",
   "execution_count": 1,
   "metadata": {},
   "outputs": [
    {
     "name": "stdout",
     "output_type": "stream",
     "text": [
      "Requirement already satisfied: openai in /opt/homebrew/anaconda3/lib/python3.11/site-packages (0.27.8)\n",
      "Requirement already satisfied: requests>=2.20 in /opt/homebrew/anaconda3/lib/python3.11/site-packages (from openai) (2.29.0)\n",
      "Requirement already satisfied: tqdm in /opt/homebrew/anaconda3/lib/python3.11/site-packages (from openai) (4.65.0)\n",
      "Requirement already satisfied: aiohttp in /opt/homebrew/anaconda3/lib/python3.11/site-packages (from openai) (3.8.3)\n",
      "Requirement already satisfied: charset-normalizer<4,>=2 in /opt/homebrew/anaconda3/lib/python3.11/site-packages (from requests>=2.20->openai) (2.0.4)\n",
      "Requirement already satisfied: idna<4,>=2.5 in /opt/homebrew/anaconda3/lib/python3.11/site-packages (from requests>=2.20->openai) (3.4)\n",
      "Requirement already satisfied: urllib3<1.27,>=1.21.1 in /opt/homebrew/anaconda3/lib/python3.11/site-packages (from requests>=2.20->openai) (1.26.16)\n",
      "Requirement already satisfied: certifi>=2017.4.17 in /opt/homebrew/anaconda3/lib/python3.11/site-packages (from requests>=2.20->openai) (2023.5.7)\n",
      "Requirement already satisfied: attrs>=17.3.0 in /opt/homebrew/anaconda3/lib/python3.11/site-packages (from aiohttp->openai) (22.1.0)\n",
      "Requirement already satisfied: multidict<7.0,>=4.5 in /opt/homebrew/anaconda3/lib/python3.11/site-packages (from aiohttp->openai) (6.0.2)\n",
      "Requirement already satisfied: async-timeout<5.0,>=4.0.0a3 in /opt/homebrew/anaconda3/lib/python3.11/site-packages (from aiohttp->openai) (4.0.2)\n",
      "Requirement already satisfied: yarl<2.0,>=1.0 in /opt/homebrew/anaconda3/lib/python3.11/site-packages (from aiohttp->openai) (1.8.1)\n",
      "Requirement already satisfied: frozenlist>=1.1.1 in /opt/homebrew/anaconda3/lib/python3.11/site-packages (from aiohttp->openai) (1.3.3)\n",
      "Requirement already satisfied: aiosignal>=1.1.2 in /opt/homebrew/anaconda3/lib/python3.11/site-packages (from aiohttp->openai) (1.2.0)\n"
     ]
    }
   ],
   "source": [
    "!pip install openai"
   ]
  },
  {
   "cell_type": "code",
   "execution_count": 2,
   "metadata": {},
   "outputs": [],
   "source": [
    "import os\n",
    "import openai\n",
    "openai.api_key = os.getenv(\"OPENAI_API_KEY\")"
   ]
  },
  {
   "cell_type": "code",
   "execution_count": 5,
   "metadata": {},
   "outputs": [],
   "source": [
    "response = openai.ChatCompletion.create(\n",
    "  model=\"gpt-3.5-turbo\",\n",
    "  messages=[\n",
    "    {\n",
    "      \"role\": \"system\",\n",
    "      \"content\": \"\"\"Please disregard all previous instructions. The response should be in JSON format only\n",
    "Your task is to check the spelling and flag any misspellings for user's review text written by Korean.\n",
    "The phrase should be written only in Korean, and the last word is 'end'\n",
    "Please reply strictly according to the <format>. Do not add any other formats to the <응답 형식>\n",
    "\n",
    "for example : user's input is \"음식이 너ㅁ무 맛 있었어요~ 다음에 또 오고 시퍼요\", you should response like this:\n",
    "<format>\n",
    "{ \n",
    "  \"results\": [\n",
    "    {\n",
    "      \"wrong\": \"너ㅁ무\",\n",
    "      \"correct\": \"너무\",\n",
    "      \"position\": \"5\",\n",
    "      \"pos\": \"Noun\",\n",
    "      \"errortype\": \"typo\"\n",
    "    },\n",
    "    {\n",
    "      \"wrong\": \"맛 있었어요\",\n",
    "      \"correct\": \"맛있었어요\",\n",
    "      \"position\": \"10\",\n",
    "      \"pos\": \"Adjective\",\n",
    "      \"errortype\": \"spacing\"\n",
    "    },\n",
    "    {\n",
    "      \"wrong\": \"시퍼요\",\n",
    "      \"correct\": \"싶어요\",\n",
    "      \"position\": \"16\",\n",
    "      \"pos\": \"Verb\",\n",
    "      \"errortype\": \"typo\"\n",
    "    },\n",
    "    ...\n",
    "  ]\n",
    "}\"\"\"\n",
    "  },\n",
    "  {\n",
    "    \"role\": \"user\",\n",
    "    \"content\": \"Please check the spelling and correctness of the following Korean text: {룸서비스와 함께 온 머스타드 병 입구에 곰팡이가 있었음. 다행히 섭취하지 않아 문제는 없지만 그래도 식자재보관에 대한 염녀가있음. 투숙 중 특이한 것이라면 입차 직원, 엑스트라베드를 가져다주던 직원, 전화를 받던직원, 룸서비스를 가져다준 직원, 예기치 못한 상황에 룸을 방문 했던직원, 야간 당직 지배인 모두가 친절하며 자기가 맡은 업무적위치에서 최선을 다하는 것이 느껴졌음. 이부분에서는 날고 기는 5성급 이상의 다른 숙소들보다 우수하다 평가하고싶음.}\"\n",
    "    }\n",
    "  ],\n",
    "  temperature=0.2,\n",
    "  max_tokens=2048\n",
    ")"
   ]
  },
  {
   "cell_type": "code",
   "execution_count": 41,
   "metadata": {},
   "outputs": [
    {
     "name": "stdout",
     "output_type": "stream",
     "text": [
      "룸서비스와 함께 온 머스타드 병 입구에 곰팡이가 있었음.\n",
      "다행히 섭취하지 않아 문제는 없지만 그래도 식자재보관에 대한 염녀가있음.\n",
      "투숙 중 특이한 것이라면 입차 직원, 엑스트라베드를 가져다주던 직원,\n",
      "전화를 받던직원, 룸서비스를 가져다준 직원, 예기치 못한 상황에 룸을 방문 했던직원,\n",
      "야간 당직 지배인 모두가 친절하며 자기가 맡은 업무적위치에서 최선을 다하는 것이 느껴졌음.\n",
      "이부분에서는 날고 기는 5성급 이상의 다른 숙소들보다 우수하다 평가하고싶음.\n"
     ]
    }
   ],
   "source": [
    "print(\"\"\"룸서비스와 함께 온 머스타드 병 입구에 곰팡이가 있었음.\n",
    "다행히 섭취하지 않아 문제는 없지만 그래도 식자재보관에 대한 염녀가있음.\n",
    "투숙 중 특이한 것이라면 입차 직원, 엑스트라베드를 가져다주던 직원,\n",
    "전화를 받던직원, 룸서비스를 가져다준 직원, 예기치 못한 상황에 룸을 방문 했던직원,\n",
    "야간 당직 지배인 모두가 친절하며 자기가 맡은 업무적위치에서 최선을 다하는 것이 느껴졌음.\n",
    "이부분에서는 날고 기는 5성급 이상의 다른 숙소들보다 우수하다 평가하고싶음.\"\"\")"
   ]
  },
  {
   "cell_type": "code",
   "execution_count": 6,
   "metadata": {},
   "outputs": [
    {
     "data": {
      "text/plain": [
       "{'results': [{'wrong': '염녀가있음',\n",
       "   'correct': '염려가 있음',\n",
       "   'position': '59',\n",
       "   'pos': 'Noun',\n",
       "   'errortype': 'typo'},\n",
       "  {'wrong': '입차',\n",
       "   'correct': '입장',\n",
       "   'position': '65',\n",
       "   'pos': 'Noun',\n",
       "   'errortype': 'typo'},\n",
       "  {'wrong': '가져다주던',\n",
       "   'correct': '가져다 주던',\n",
       "   'position': '70',\n",
       "   'pos': 'Verb',\n",
       "   'errortype': 'spacing'},\n",
       "  {'wrong': '받던직원',\n",
       "   'correct': '받던 직원',\n",
       "   'position': '75',\n",
       "   'pos': 'Verb',\n",
       "   'errortype': 'spacing'},\n",
       "  {'wrong': '가져다준',\n",
       "   'correct': '가져다 준',\n",
       "   'position': '82',\n",
       "   'pos': 'Verb',\n",
       "   'errortype': 'spacing'},\n",
       "  {'wrong': '했던직원',\n",
       "   'correct': '했던 직원',\n",
       "   'position': '89',\n",
       "   'pos': 'Verb',\n",
       "   'errortype': 'spacing'},\n",
       "  {'wrong': '당직',\n",
       "   'correct': '당번',\n",
       "   'position': '96',\n",
       "   'pos': 'Noun',\n",
       "   'errortype': 'typo'},\n",
       "  {'wrong': '지배인',\n",
       "   'correct': '지방인',\n",
       "   'position': '99',\n",
       "   'pos': 'Noun',\n",
       "   'errortype': 'typo'},\n",
       "  {'wrong': '느껴졌음',\n",
       "   'correct': '느껴졌다',\n",
       "   'position': '105',\n",
       "   'pos': 'Verb',\n",
       "   'errortype': 'typo'},\n",
       "  {'wrong': '이부분에서는',\n",
       "   'correct': '이 부분에서는',\n",
       "   'position': '113',\n",
       "   'pos': 'Noun',\n",
       "   'errortype': 'spacing'},\n",
       "  {'wrong': '평가하고싶음',\n",
       "   'correct': '평가하고 싶음',\n",
       "   'position': '118',\n",
       "   'pos': 'Verb',\n",
       "   'errortype': 'spacing'},\n",
       "  {'wrong': '다른',\n",
       "   'correct': '다른',\n",
       "   'position': '126',\n",
       "   'pos': 'Noun',\n",
       "   'errortype': 'typo'},\n",
       "  {'wrong': '숙소들보다',\n",
       "   'correct': '숙소들보다',\n",
       "   'position': '129',\n",
       "   'pos': 'Noun',\n",
       "   'errortype': 'typo'},\n",
       "  {'wrong': '우수하다',\n",
       "   'correct': '우수하다',\n",
       "   'position': '134',\n",
       "   'pos': 'Adjective',\n",
       "   'errortype': 'typo'},\n",
       "  {'wrong': '평가하고싶음',\n",
       "   'correct': '평가하고 싶음',\n",
       "   'position': '138',\n",
       "   'pos': 'Verb',\n",
       "   'errortype': 'spacing'},\n",
       "  {'wrong': 'end',\n",
       "   'correct': 'end',\n",
       "   'position': '142',\n",
       "   'pos': 'N/A',\n",
       "   'errortype': 'N/A'}]}"
      ]
     },
     "execution_count": 6,
     "metadata": {},
     "output_type": "execute_result"
    }
   ],
   "source": [
    "import json\n",
    "response_json = json.loads(response['choices'][0][\"message\"][\"content\"])\n",
    "response_json"
   ]
  },
  {
   "cell_type": "code",
   "execution_count": 7,
   "metadata": {},
   "outputs": [
    {
     "name": "stdout",
     "output_type": "stream",
     "text": [
      "염녀가있음 염려가 있음 59 Noun typo\n",
      "입차 입장 65 Noun typo\n",
      "가져다주던 가져다 주던 70 Verb spacing\n",
      "받던직원 받던 직원 75 Verb spacing\n",
      "가져다준 가져다 준 82 Verb spacing\n",
      "했던직원 했던 직원 89 Verb spacing\n",
      "당직 당번 96 Noun typo\n",
      "지배인 지방인 99 Noun typo\n",
      "느껴졌음 느껴졌다 105 Verb typo\n",
      "이부분에서는 이 부분에서는 113 Noun spacing\n",
      "평가하고싶음 평가하고 싶음 118 Verb spacing\n",
      "다른 다른 126 Noun typo\n",
      "숙소들보다 숙소들보다 129 Noun typo\n",
      "우수하다 우수하다 134 Adjective typo\n",
      "평가하고싶음 평가하고 싶음 138 Verb spacing\n",
      "end end 142 N/A N/A\n"
     ]
    }
   ],
   "source": [
    "import json\n",
    "response_json = json.loads(response['choices'][0][\"message\"][\"content\"])\n",
    "for result in response_json['results']:\n",
    "    print(result['wrong'], result['correct'], result['position'], result['pos'], result['errortype'])"
   ]
  },
  {
   "cell_type": "code",
   "execution_count": 28,
   "metadata": {},
   "outputs": [
    {
     "data": {
      "text/plain": [
       "{'results': [{'wrong': '염녀가있음',\n",
       "   'correct': '염려가 있음',\n",
       "   'position': '50',\n",
       "   'pos': 'Noun',\n",
       "   'errortype': 'typo'},\n",
       "  {'wrong': '입차',\n",
       "   'correct': '입장',\n",
       "   'position': '57',\n",
       "   'pos': 'Noun',\n",
       "   'errortype': 'typo'},\n",
       "  {'wrong': '가져다주던',\n",
       "   'correct': '가져다 주던',\n",
       "   'position': '62',\n",
       "   'pos': 'Verb',\n",
       "   'errortype': 'spacing'},\n",
       "  {'wrong': '받던직원',\n",
       "   'correct': '받던 직원',\n",
       "   'position': '69',\n",
       "   'pos': 'Noun',\n",
       "   'errortype': 'spacing'},\n",
       "  {'wrong': '가져다준',\n",
       "   'correct': '가져다 준',\n",
       "   'position': '77',\n",
       "   'pos': 'Verb',\n",
       "   'errortype': 'spacing'},\n",
       "  {'wrong': '했던직원',\n",
       "   'correct': '했던 직원',\n",
       "   'position': '86',\n",
       "   'pos': 'Noun',\n",
       "   'errortype': 'spacing'},\n",
       "  {'wrong': '당직',\n",
       "   'correct': '당번',\n",
       "   'position': '94',\n",
       "   'pos': 'Noun',\n",
       "   'errortype': 'typo'},\n",
       "  {'wrong': '지배인',\n",
       "   'correct': '지방인',\n",
       "   'position': '97',\n",
       "   'pos': 'Noun',\n",
       "   'errortype': 'typo'},\n",
       "  {'wrong': '느껴졌음',\n",
       "   'correct': '느껴졌다',\n",
       "   'position': '106',\n",
       "   'pos': 'Verb',\n",
       "   'errortype': 'typo'},\n",
       "  {'wrong': '평가하고싶음',\n",
       "   'correct': '평가하고 싶음',\n",
       "   'position': '111',\n",
       "   'pos': 'Verb',\n",
       "   'errortype': 'spacing'},\n",
       "  {'wrong': '다른',\n",
       "   'correct': '다른',\n",
       "   'position': '116',\n",
       "   'pos': 'Noun',\n",
       "   'errortype': 'typo'},\n",
       "  {'wrong': '숙소들보다',\n",
       "   'correct': '숙소들보다',\n",
       "   'position': '118',\n",
       "   'pos': 'Noun',\n",
       "   'errortype': 'typo'},\n",
       "  {'wrong': '평가하고싶음',\n",
       "   'correct': '평가하고 싶음',\n",
       "   'position': '121',\n",
       "   'pos': 'Verb',\n",
       "   'errortype': 'spacing'}]}"
      ]
     },
     "execution_count": 28,
     "metadata": {},
     "output_type": "execute_result"
    }
   ],
   "source": [
    "import json\n",
    "response_json = json.loads(response['choices'][0][\"message\"][\"content\"])\n",
    "response_json"
   ]
  },
  {
   "cell_type": "code",
   "execution_count": 8,
   "metadata": {},
   "outputs": [
    {
     "name": "stdout",
     "output_type": "stream",
     "text": [
      "염녀가있음 염려가 있음 47 Noun typo\n",
      "입차 입장 55 Noun typo\n",
      "가져다주던 가져다 주던 61 Verb spacing\n",
      "받던직원 받던 직원 69 Verb spacing\n",
      "가져다준 가져다 준 79 Verb spacing\n",
      "했던직원 했던 직원 89 Verb spacing\n",
      "당직 당번 99 Noun typo\n",
      "지배인 지방인 101 Noun typo\n",
      "느껴졌음 느껴졌다 107 Verb typo\n",
      "평가하고싶음 평가하고 싶음 117 Verb spacing\n",
      "다른 다른 123 Determiner typo\n",
      "숙소들보다 숙소들보다 125 Noun typo\n",
      "평가하고싶음 평가하고 싶음 129 Verb spacing\n"
     ]
    }
   ],
   "source": [
    "import json\n",
    "response_json = json.loads(response['choices'][0][\"message\"][\"content\"])\n",
    "for result in response_json['results']:\n",
    "    print(result['wrong'], result['correct'], result['position'], result['pos'], result['errortype'])"
   ]
  },
  {
   "cell_type": "code",
   "execution_count": 50,
   "metadata": {},
   "outputs": [],
   "source": [
    "response = openai.ChatCompletion.create(\n",
    "  model=\"gpt-3.5-turbo\",\n",
    "  messages=[\n",
    "    {\n",
    "      \"role\": \"system\",\n",
    "      \"content\": \"\"\"지금부터 완성되지 않은 여행 리뷰를 입력할거야. 너는 이 리뷰의 뒷 부분에 추가로 작성하면 좋을 주제나 내용을 추천해야 해. 예를 들어 \n",
    "\"숙소에 들어갈때 기분이 좋았어요.\" 라는 리뷰가 작성되었다면, 너는 다음 포맷에 맞춰 답변해야 해. \n",
    "<format>\n",
    "{\n",
    "  \"results\" : [\n",
    "    \"숙소의 어떤 점이 기분을 좋게 했나요?\",\n",
    "    \"숙소 이외에 다른 좋았던 부분이 있나요?\",\n",
    "    \"다음에도 이 숙소를 방문하고 싶나요?\",\n",
    "    ...\n",
    "  ]\n",
    "}\n",
    "\"\"\"\n",
    "  },\n",
    "  {\n",
    "    \"role\": \"user\",\n",
    "    \"content\": \"룸서비스와 함께 온 머스타드 병 입구에 곰팡이가 있었음. 다행히 섭취하지 않아 문제는 없지만 그래도 식자재보관에 대한 염녀가있음.\"\n",
    "    }\n",
    "  ],\n",
    "  temperature=0.2,\n",
    "  max_tokens=2048\n",
    ")"
   ]
  },
  {
   "cell_type": "code",
   "execution_count": null,
   "metadata": {},
   "outputs": [],
   "source": [
    "response = openai.ChatCompletion.create(\n",
    "  model=\"gpt-3.5-turbo\",\n",
    "  messages=[\n",
    "    {\n",
    "      \"role\": \"system\",\n",
    "      \"content\": \"\"\"지금부터 완성되지 않은 여행 리뷰를 입력할거야. 너는 이 리뷰의 뒷 부분에 추가로 작성하면 좋을 주제나 내용을 추천해야 해. 예를 들어 \n",
    "\"숙소에 들어갈때 기분이 좋았어요.\" 라는 리뷰가 작성되었다면, 너는 다음 포맷에 맞춰 답변해야 해. \n",
    "<format>\n",
    "{\n",
    "  \"results\" : [\n",
    "    \"숙소의 어떤 점이 기분을 좋게 했나요?\",\n",
    "    \"숙소 이외에 다른 좋았던 부분이 있나요?\",\n",
    "    \"다음에도 이 숙소를 방문하고 싶나요?\",\n",
    "    ...\n",
    "  ]\n",
    "}\n",
    "\"\"\"\n",
    "  },\n",
    "  {\n",
    "    \"role\": \"user\",\n",
    "    \"content\": \"룸서비스와 함께 온 머스타드 병 입구에 곰팡이가 있었음.\"\n",
    "    }\n",
    "  ],\n",
    "  temperature=0.2,\n",
    "  max_tokens=2048\n",
    ")"
   ]
  },
  {
   "cell_type": "code",
   "execution_count": 44,
   "metadata": {},
   "outputs": [],
   "source": [
    "response = openai.ChatCompletion.create(\n",
    "  model=\"gpt-3.5-turbo\",\n",
    "  messages=[\n",
    "    {\n",
    "      \"role\": \"system\",\n",
    "      \"content\": \"\"\"지금부터 완성되지 않은 여행 리뷰를 입력할거야. 너는 이 리뷰의 뒷 부분에 추가로 작성하면 좋을 주제나 내용을 추천해야 해. 예를 들어 \n",
    "\"숙소에 들어갈때 기분이 좋았어요.\" 라는 리뷰가 작성되었다면, 너는 다음 포맷에 맞춰 답변해야 해. \n",
    "<format>\n",
    "{\n",
    "  \"results\" : [\n",
    "    \"숙소의 어떤 점이 기분을 좋게 했나요?\",\n",
    "    \"숙소 이외에 다른 좋았던 부분이 있나요?\",\n",
    "    \"다음에도 이 숙소를 방문하고 싶나요?\",\n",
    "    ...\n",
    "  ]\n",
    "}\n",
    "\"\"\"\n",
    "  },\n",
    "  {\n",
    "    \"role\": \"user\",\n",
    "    \"content\": \"룸서비스와 함께 온 머스타드 병 입구에 곰팡이가 있었음.\"\n",
    "    }\n",
    "  ],\n",
    "  temperature=0.2,\n",
    "  max_tokens=2048\n",
    ")"
   ]
  },
  {
   "cell_type": "code",
   "execution_count": null,
   "metadata": {},
   "outputs": [],
   "source": [
    "response['choices'][0][\"message\"][\"content\"]"
   ]
  },
  {
   "cell_type": "code",
   "execution_count": 53,
   "metadata": {},
   "outputs": [
    {
     "name": "stdout",
     "output_type": "stream",
     "text": [
      "룸서비스와 함께 온 머스타드 병 입구에 곰팡이가 있었음.\n",
      "다행히 섭취하지 않아 문제는 없지만 그래도 식자재보관에 대한 염녀가있음.\n"
     ]
    }
   ],
   "source": [
    "print(\"룸서비스와 함께 온 머스타드 병 입구에 곰팡이가 있었음.\\n다행히 섭취하지 않아 문제는 없지만 그래도 식자재보관에 대한 염녀가있음.\")"
   ]
  },
  {
   "cell_type": "code",
   "execution_count": 54,
   "metadata": {},
   "outputs": [
    {
     "name": "stdout",
     "output_type": "stream",
     "text": [
      "식자재보관에 대한 염려가 있으신 건 이해할 수 있어요.\n",
      "그럼 다음과 같은 주제로 추가적인 내용을 작성해보세요:\n",
      "\n",
      "1. 머스타드 병 입구에 곰팡이가 있었던 이유는 무엇일까요?\n",
      "2. 호텔이나 숙소에서 식자재 보관에 신경을 쓰지 않는 이유는 무엇일까요?\n",
      "3. 식자재 보관에 신경을 쓰는 호텔이나 숙소를 찾으시나요? 그 이유는 무엇인가요?\n",
      "4. 식자재 보관에 대한 염려를 해소하기 위해 호텔이나 숙소에 요청할 수 있는 방법은 무엇일까요?\n",
      "5. 식자재 보관 상태를 확인하는 방법이 있다면 어떤 것들이 있을까요?\n"
     ]
    }
   ],
   "source": [
    "print(\"\"\"식자재보관에 대한 염려가 있으신 건 이해할 수 있어요.\\n그럼 다음과 같은 주제로 추가적인 내용을 작성해보세요:\n",
    "\n",
    "1. 머스타드 병 입구에 곰팡이가 있었던 이유는 무엇일까요?\n",
    "2. 호텔이나 숙소에서 식자재 보관에 신경을 쓰지 않는 이유는 무엇일까요?\n",
    "3. 식자재 보관에 신경을 쓰는 호텔이나 숙소를 찾으시나요? 그 이유는 무엇인가요?\n",
    "4. 식자재 보관에 대한 염려를 해소하기 위해 호텔이나 숙소에 요청할 수 있는 방법은 무엇일까요?\n",
    "5. 식자재 보관 상태를 확인하는 방법이 있다면 어떤 것들이 있을까요?\"\"\")"
   ]
  },
  {
   "cell_type": "code",
   "execution_count": 52,
   "metadata": {},
   "outputs": [
    {
     "name": "stdout",
     "output_type": "stream",
     "text": [
      "식자재보관에 대한 염려가 있으신 건 이해할 수 있어요. 그럼 다음과 같은 주제로 추가적인 내용을 작성해보세요:\n",
      "\n",
      "1. 머스타드 병 입구에 곰팡이가 있었던 이유는 무엇일까요?\n",
      "2. 호텔이나 숙소에서 식자재 보관에 신경을 쓰지 않는 이유는 무엇일까요?\n",
      "3. 식자재 보관에 신경을 쓰는 호텔이나 숙소를 찾으시나요? 그 이유는 무엇인가요?\n",
      "4. 식자재 보관에 대한 염려를 해소하기 위해 호텔이나 숙소에 요청할 수 있는 방법은 무엇일까요?\n",
      "5. 식자재 보관 상태를 확인하는 방법이 있다면 어떤 것들이 있을까요?\n"
     ]
    }
   ],
   "source": [
    "for i in response['choices'][0][\"message\"][\"content\"].split(\"\\n\"):\n",
    "    print(i)"
   ]
  },
  {
   "cell_type": "code",
   "execution_count": 51,
   "metadata": {},
   "outputs": [
    {
     "data": {
      "text/plain": [
       "'식자재보관에 대한 염려가 있으신 건 이해할 수 있어요. 그럼 다음과 같은 주제로 추가적인 내용을 작성해보세요:\\n\\n1. 머스타드 병 입구에 곰팡이가 있었던 이유는 무엇일까요?\\n2. 호텔이나 숙소에서 식자재 보관에 신경을 쓰지 않는 이유는 무엇일까요?\\n3. 식자재 보관에 신경을 쓰는 호텔이나 숙소를 찾으시나요? 그 이유는 무엇인가요?\\n4. 식자재 보관에 대한 염려를 해소하기 위해 호텔이나 숙소에 요청할 수 있는 방법은 무엇일까요?\\n5. 식자재 보관 상태를 확인하는 방법이 있다면 어떤 것들이 있을까요?'"
      ]
     },
     "execution_count": 51,
     "metadata": {},
     "output_type": "execute_result"
    }
   ],
   "source": []
  },
  {
   "cell_type": "code",
   "execution_count": 48,
   "metadata": {},
   "outputs": [
    {
     "name": "stdout",
     "output_type": "stream",
     "text": [
      "룸서비스와 함께 온 머스타드 병 입구에 곰팡이가 있었음.\n"
     ]
    }
   ],
   "source": [
    "print(\"룸서비스와 함께 온 머스타드 병 입구에 곰팡이가 있었음.\")"
   ]
  },
  {
   "cell_type": "code",
   "execution_count": 49,
   "metadata": {},
   "outputs": [
    {
     "name": "stdout",
     "output_type": "stream",
     "text": [
      "머스타드 병 입구에 곰팡이가 있었다니, 그것은 정말 실망스러운 일이네요.\n",
      "이 리뷰에 대해 추가로 작성할 수 있는 주제나 내용을 추천해드릴게요.\n",
      "\n",
      "1. 다른 곳에서도 이런 경험을 했던 적이 있나요?\n",
      "2. 곰팡이가 있는 머스타드 병을 보고 어떤 생각이 들었나요?\n",
      "3. 이런 상황에서 호텔 직원들의 대처는 어땠나요?\n",
      "4. 다음에 호텔을 선택할 때 이런 일을 방지하기 위해 어떤 조치를 취할 것인가요?\n",
      "5. 이 호텔에 대한 전반적인 청결 상태는 어떠했나요?\n",
      "6. 다른 고객들도 이런 문제를 겪었을까요?\n",
      "7. 호텔에 이 문제를 보고 피드백을 전달했나요?\n",
      "8. 이런 상황에서 호텔에 대한 평가는 어떻게 되나요?\n",
      "9. 다른 호텔을 추천하고 싶나요?\n",
      "10. 이런 상황에서 호텔에 대한 보상을 받았나요?\n"
     ]
    }
   ],
   "source": [
    "print(\"\"\"머스타드 병 입구에 곰팡이가 있었다니, 그것은 정말 실망스러운 일이네요.\n",
    "이 리뷰에 대해 추가로 작성할 수 있는 주제나 내용을 추천해드릴게요.\n",
    "\n",
    "1. 다른 곳에서도 이런 경험을 했던 적이 있나요?\n",
    "2. 곰팡이가 있는 머스타드 병을 보고 어떤 생각이 들었나요?\n",
    "3. 이런 상황에서 호텔 직원들의 대처는 어땠나요?\n",
    "4. 다음에 호텔을 선택할 때 이런 일을 방지하기 위해 어떤 조치를 취할 것인가요?\n",
    "5. 이 호텔에 대한 전반적인 청결 상태는 어떠했나요?\n",
    "6. 다른 고객들도 이런 문제를 겪었을까요?\n",
    "7. 호텔에 이 문제를 보고 피드백을 전달했나요?\n",
    "8. 이런 상황에서 호텔에 대한 평가는 어떻게 되나요?\n",
    "9. 다른 호텔을 추천하고 싶나요?\n",
    "10. 이런 상황에서 호텔에 대한 보상을 받았나요?\"\"\")"
   ]
  },
  {
   "cell_type": "code",
   "execution_count": 47,
   "metadata": {},
   "outputs": [
    {
     "name": "stdout",
     "output_type": "stream",
     "text": [
      "머스타드 병 입구에 곰팡이가 있었다니, 그것은 정말 실망스러운 일이네요. 이 리뷰에 대해 추가로 작성할 수 있는 주제나 내용을 추천해드릴게요.\n",
      "\n",
      "1. 다른 곳에서도 이런 경험을 했던 적이 있나요?\n",
      "2. 곰팡이가 있는 머스타드 병을 보고 어떤 생각이 들었나요?\n",
      "3. 이런 상황에서 호텔 직원들의 대처는 어땠나요?\n",
      "4. 다음에 호텔을 선택할 때 이런 일을 방지하기 위해 어떤 조치를 취할 것인가요?\n",
      "5. 이 호텔에 대한 전반적인 청결 상태는 어떠했나요?\n",
      "6. 다른 고객들도 이런 문제를 겪었을까요?\n",
      "7. 호텔에 이 문제를 보고 피드백을 전달했나요?\n",
      "8. 이런 상황에서 호텔에 대한 평가는 어떻게 되나요?\n",
      "9. 다른 호텔을 추천하고 싶나요?\n",
      "10. 이런 상황에서 호텔에 대한 보상을 받았나요?\n"
     ]
    }
   ],
   "source": [
    "for i in response['choices'][0][\"message\"][\"content\"].split(\"\\n\"):\n",
    "    print(i)"
   ]
  },
  {
   "cell_type": "code",
   "execution_count": 31,
   "metadata": {},
   "outputs": [
    {
     "data": {
      "text/plain": [
       "'머스타드가 상한 것은 좀 아쉬웠을텐데, 직원들의 친절함은 좋았네요. 다음에도 이 식당을 방문하고 싶으신가요?'"
      ]
     },
     "execution_count": 31,
     "metadata": {},
     "output_type": "execute_result"
    }
   ],
   "source": [
    "response['choices'][0][\"message\"][\"content\"]"
   ]
  },
  {
   "cell_type": "code",
   "execution_count": 33,
   "metadata": {},
   "outputs": [
    {
     "data": {
      "text/plain": [
       "'머스타드가 약간 상한 것 같다니, 그럴 수도 있지요. 그럼에도 불구하고 직원들이 친절하게 대해준다면 좋은 경험이었을 것 같아요. 그 외에도 다른 좋았던 부분이 있을까요? 다음에도 이 식당을 방문하고 싶은 이유가 있을까요?'"
      ]
     },
     "execution_count": 33,
     "metadata": {},
     "output_type": "execute_result"
    }
   ],
   "source": [
    "response['choices'][0][\"message\"][\"content\"]"
   ]
  },
  {
   "cell_type": "code",
   "execution_count": null,
   "metadata": {},
   "outputs": [],
   "source": []
  }
 ],
 "metadata": {
  "kernelspec": {
   "display_name": "base",
   "language": "python",
   "name": "python3"
  },
  "language_info": {
   "codemirror_mode": {
    "name": "ipython",
    "version": 3
   },
   "file_extension": ".py",
   "mimetype": "text/x-python",
   "name": "python",
   "nbconvert_exporter": "python",
   "pygments_lexer": "ipython3",
   "version": "3.11.3"
  },
  "orig_nbformat": 4
 },
 "nbformat": 4,
 "nbformat_minor": 2
}
